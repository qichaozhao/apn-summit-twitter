{
 "cells": [
  {
   "cell_type": "code",
   "execution_count": 30,
   "metadata": {
    "collapsed": false
   },
   "outputs": [
    {
     "name": "stderr",
     "output_type": "stream",
     "text": [
      "/usr/local/lib/python2.7/site-packages/matplotlib/font_manager.py:273: UserWarning: Matplotlib is building the font cache using fc-list. This may take a moment.\n",
      "  warnings.warn('Matplotlib is building the font cache using fc-list. This may take a moment.')\n"
     ]
    }
   ],
   "source": [
    "# Some quick exploration and visualisation of tweet data from the week around summit! Funz!\n",
    "# What we will do is:\n",
    "# 1. Look at some overall stats by hour.\n",
    "# 2. Do a bit of processing on the tweets to determine most popular words per hour and perhaps build an interactive bokeh chart!\n",
    "\n",
    "import pandas as pd\n",
    "import numpy as np\n",
    "\n",
    "%matplotlib inline\n",
    "import matplotlib.pyplot as plt\n",
    "import seaborn as sns"
   ]
  },
  {
   "cell_type": "code",
   "execution_count": 31,
   "metadata": {
    "collapsed": false
   },
   "outputs": [],
   "source": [
    "# Lets just start with some basic exploratory analysis\n",
    "df = pd.read_csv('all_tweets.csv')"
   ]
  },
  {
   "cell_type": "code",
   "execution_count": 32,
   "metadata": {
    "collapsed": false
   },
   "outputs": [
    {
     "data": {
      "text/html": [
       "<div>\n",
       "<table border=\"1\" class=\"dataframe\">\n",
       "  <thead>\n",
       "    <tr style=\"text-align: right;\">\n",
       "      <th></th>\n",
       "      <th>id</th>\n",
       "      <th>tweet_id</th>\n",
       "      <th>user_id</th>\n",
       "      <th>loc</th>\n",
       "      <th>coords</th>\n",
       "      <th>text</th>\n",
       "      <th>created_on</th>\n",
       "    </tr>\n",
       "  </thead>\n",
       "  <tbody>\n",
       "    <tr>\n",
       "      <th>0</th>\n",
       "      <td>1</td>\n",
       "      <td>859060326385451009</td>\n",
       "      <td>7328382</td>\n",
       "      <td>France</td>\n",
       "      <td>NaN</td>\n",
       "      <td>AppNexus lance les 'super- enchères' https://t...</td>\n",
       "      <td>2017-05-01 15:01:59</td>\n",
       "    </tr>\n",
       "    <tr>\n",
       "      <th>1</th>\n",
       "      <td>2</td>\n",
       "      <td>859075195054604288</td>\n",
       "      <td>3031804453</td>\n",
       "      <td>San Francisco, CA</td>\n",
       "      <td>NaN</td>\n",
       "      <td>AppNexus Launches Multimedia \"Superauction\" Te...</td>\n",
       "      <td>2017-05-01 16:01:04</td>\n",
       "    </tr>\n",
       "    <tr>\n",
       "      <th>2</th>\n",
       "      <td>3</td>\n",
       "      <td>859087787915694080</td>\n",
       "      <td>3300616253</td>\n",
       "      <td>NaN</td>\n",
       "      <td>NaN</td>\n",
       "      <td>Partner Spotlight: #AppNexus Is The Worlds Le...</td>\n",
       "      <td>2017-05-01 16:51:06</td>\n",
       "    </tr>\n",
       "    <tr>\n",
       "      <th>3</th>\n",
       "      <td>4</td>\n",
       "      <td>859134706511736836</td>\n",
       "      <td>2772428497</td>\n",
       "      <td>SoCal, Galaxy far far away</td>\n",
       "      <td>NaN</td>\n",
       "      <td>RT @ShiraOvide: Since the fall we've had IPO f...</td>\n",
       "      <td>2017-05-01 19:57:32</td>\n",
       "    </tr>\n",
       "    <tr>\n",
       "      <th>4</th>\n",
       "      <td>5</td>\n",
       "      <td>859135421095133185</td>\n",
       "      <td>41423673</td>\n",
       "      <td>Atlanta, GA</td>\n",
       "      <td>NaN</td>\n",
       "      <td>AppNexus Launches Multimedia Auction Technolog...</td>\n",
       "      <td>2017-05-01 20:00:23</td>\n",
       "    </tr>\n",
       "  </tbody>\n",
       "</table>\n",
       "</div>"
      ],
      "text/plain": [
       "   id            tweet_id     user_id                         loc coords  \\\n",
       "0   1  859060326385451009     7328382                      France    NaN   \n",
       "1   2  859075195054604288  3031804453           San Francisco, CA    NaN   \n",
       "2   3  859087787915694080  3300616253                         NaN    NaN   \n",
       "3   4  859134706511736836  2772428497  SoCal, Galaxy far far away    NaN   \n",
       "4   5  859135421095133185    41423673                 Atlanta, GA    NaN   \n",
       "\n",
       "                                                text           created_on  \n",
       "0  AppNexus lance les 'super- enchères' https://t...  2017-05-01 15:01:59  \n",
       "1  AppNexus Launches Multimedia \"Superauction\" Te...  2017-05-01 16:01:04  \n",
       "2  Partner Spotlight: #AppNexus Is The Worlds Le...  2017-05-01 16:51:06  \n",
       "3  RT @ShiraOvide: Since the fall we've had IPO f...  2017-05-01 19:57:32  \n",
       "4  AppNexus Launches Multimedia Auction Technolog...  2017-05-01 20:00:23  "
      ]
     },
     "execution_count": 32,
     "metadata": {},
     "output_type": "execute_result"
    }
   ],
   "source": [
    "df.head()"
   ]
  },
  {
   "cell_type": "code",
   "execution_count": 36,
   "metadata": {
    "collapsed": false
   },
   "outputs": [],
   "source": [
    "# Let's plot a count of tweets by hour.\n",
    "df['created_on'] = pd.to_datetime(df['created_on'])\n",
    "df['dh'] = df['created_on'].apply(lambda x: pd.to_datetime(x.strftime('%Y-%m-%d %H:00:00')))"
   ]
  },
  {
   "cell_type": "code",
   "execution_count": 42,
   "metadata": {
    "collapsed": false
   },
   "outputs": [],
   "source": [
    "by_hour = df.groupby('dh').agg('count')\n",
    "by_hour.rename(columns={'id':'count_id'}, inplace=True)"
   ]
  },
  {
   "cell_type": "code",
   "execution_count": 43,
   "metadata": {
    "collapsed": false
   },
   "outputs": [
    {
     "data": {
      "text/plain": [
       "<matplotlib.axes._subplots.AxesSubplot at 0x7f5c952a6890>"
      ]
     },
     "execution_count": 43,
     "metadata": {},
     "output_type": "execute_result"
    },
    {
     "data": {
      "image/png": "[encoded data removed]",
      "text/plain": [
       "<matplotlib.figure.Figure at 0x7f5c952a1a10>"
      ]
     },
     "metadata": {},
     "output_type": "display_data"
    }
   ],
   "source": [
    "by_hour.plot(y='count_id')"
   ]
  },
  {
   "cell_type": "markdown",
   "metadata": {},
   "source": [
    "Well it certainly seems pretty obvious as to when summit occurred! It would also be interesting to get some idea of the contents of tweets by hour."
   ]
  },
  {
   "cell_type": "code",
   "execution_count": 66,
   "metadata": {
    "collapsed": true
   },
   "outputs": [],
   "source": [
    "# What we'll do to analyse tweet content is to python's NLTK library to help us determine\n",
    "# the most popular words from all tweets in a given hour.\n",
    "\n",
    "# Import some required nltk modules\n",
    "from nltk.corpus import stopwords\n",
    "from nltk import word_tokenize\n",
    "import string\n",
    "from nltk import FreqDist"
   ]
  },
  {
   "cell_type": "code",
   "execution_count": 48,
   "metadata": {
    "collapsed": true
   },
   "outputs": [],
   "source": [
    "# First for each hour we want to concatenate the tweets together.\n",
    "words_by_hour = df.groupby('dh')['text'].apply(lambda x: \" \".join(x)).reset_index()"
   ]
  },
  {
   "cell_type": "code",
   "execution_count": 110,
   "metadata": {
    "collapsed": false
   },
   "outputs": [
    {
     "name": "stderr",
     "output_type": "stream",
     "text": [
      "/usr/local/lib/python2.7/site-packages/ipykernel/__main__.py:8: UnicodeWarning: Unicode equal comparison failed to convert both arguments to Unicode - interpreting them as being unequal\n"
     ]
    }
   ],
   "source": [
    "# Now we need to tokenize, remove stopwords and punctuation characters\n",
    "def pre_process_text(sentence):\n",
    "    \n",
    "    # tokenize into a list of words with punctuation stripped\n",
    "    wl = word_tokenize(sentence.translate(None, string.punctuation))\n",
    "    \n",
    "    # remove stopwords\n",
    "    fw = [word.lower() for word in wl if word not in stopwords.words('english')]\n",
    "    \n",
    "    # remove some custom stopwords (appnexus and rt)\n",
    "    custom_sw_list = ['appnexus', 'rt', 'appnexussummit']\n",
    "    fw = [word for word in fw if word not in custom_sw_list]\n",
    "    \n",
    "    # remove all urls\n",
    "    fw = [word for word in fw if not word.startswith('http')]\n",
    "    \n",
    "    return fw\n",
    "\n",
    "words_by_hour['proc_text'] = words_by_hour['text'].apply(pre_process_text)"
   ]
  },
  {
   "cell_type": "code",
   "execution_count": 111,
   "metadata": {
    "collapsed": false
   },
   "outputs": [],
   "source": [
    "# Now we have a list of words that appeared per hour.\n",
    "# We need to process these to extract the top 3 most frequent\n",
    "def find_most_frequent(words):\n",
    "    \n",
    "    # get the frequency distribution\n",
    "    freq_dist = FreqDist(words)\n",
    "    \n",
    "    # return top 3\n",
    "    return \",\".join([word for word, _ in freq_dist.most_common(3)]).replace(\" \",\"\")\n",
    "\n",
    "words_by_hour['top'] = words_by_hour['proc_text'].apply(find_most_frequent)"
   ]
  },
  {
   "cell_type": "code",
   "execution_count": 113,
   "metadata": {
    "collapsed": false
   },
   "outputs": [
    {
     "data": {
      "text/html": [
       "\n",
       "    <div class=\"bk-root\">\n",
       "        <a href=\"http://bokeh.pydata.org\" target=\"_blank\" class=\"bk-logo bk-logo-small bk-logo-notebook\"></a>\n",
       "        <span id=\"f981d2ad-09f3-4609-9f17-414b2cbb5118\">Loading BokehJS ...</span>\n",
       "    </div>"
      ]
     },
     "metadata": {},
     "output_type": "display_data"
    },
    {
     "data": {
      "application/javascript": [
       "\n",
       "(function(global) {\n",
       "  function now() {\n",
       "    return new Date();\n",
       "  }\n",
       "\n",
       "  var force = \"1\";\n",
       "\n",
       "  if (typeof (window._bokeh_onload_callbacks) === \"undefined\" || force !== \"\") {\n",
       "    window._bokeh_onload_callbacks = [];\n",
       "    window._bokeh_is_loading = undefined;\n",
       "  }\n",
       "\n",
       "\n",
       "  \n",
       "  if (typeof (window._bokeh_timeout) === \"undefined\" || force !== \"\") {\n",
       "    window._bokeh_timeout = Date.now() + 5000;\n",
       "    window._bokeh_failed_load = false;\n",
       "  }\n",
       "\n",
       "  var NB_LOAD_WARNING = {'data': {'text/html':\n",
       "     \"<div style='background-color: #fdd'>\\n\"+\n",
       "     \"<p>\\n\"+\n",
       "     \"BokehJS does not appear to have successfully loaded. If loading BokehJS from CDN, this \\n\"+\n",
       "     \"may be due to a slow or bad network connection. Possible fixes:\\n\"+\n",
       "     \"</p>\\n\"+\n",
       "     \"<ul>\\n\"+\n",
       "     \"<li>re-rerun `output_notebook()` to attempt to load from CDN again, or</li>\\n\"+\n",
       "     \"<li>use INLINE resources instead, as so:</li>\\n\"+\n",
       "     \"</ul>\\n\"+\n",
       "     \"<code>\\n\"+\n",
       "     \"from bokeh.resources import INLINE\\n\"+\n",
       "     \"output_notebook(resources=INLINE)\\n\"+\n",
       "     \"</code>\\n\"+\n",
       "     \"</div>\"}};\n",
       "\n",
       "  function display_loaded() {\n",
       "    if (window.Bokeh !== undefined) {\n",
       "      Bokeh.$(\"#f981d2ad-09f3-4609-9f17-414b2cbb5118\").text(\"BokehJS successfully loaded.\");\n",
       "    } else if (Date.now() < window._bokeh_timeout) {\n",
       "      setTimeout(display_loaded, 100)\n",
       "    }\n",
       "  }\n",
       "\n",
       "  function run_callbacks() {\n",
       "    window._bokeh_onload_callbacks.forEach(function(callback) { callback() });\n",
       "    delete window._bokeh_onload_callbacks\n",
       "    console.info(\"Bokeh: all callbacks have finished\");\n",
       "  }\n",
       "\n",
       "  function load_libs(js_urls, callback) {\n",
       "    window._bokeh_onload_callbacks.push(callback);\n",
       "    if (window._bokeh_is_loading > 0) {\n",
       "      console.log(\"Bokeh: BokehJS is being loaded, scheduling callback at\", now());\n",
       "      return null;\n",
       "    }\n",
       "    if (js_urls == null || js_urls.length === 0) {\n",
       "      run_callbacks();\n",
       "      return null;\n",
       "    }\n",
       "    console.log(\"Bokeh: BokehJS not loaded, scheduling load and callback at\", now());\n",
       "    window._bokeh_is_loading = js_urls.length;\n",
       "    for (var i = 0; i < js_urls.length; i++) {\n",
       "      var url = js_urls[i];\n",
       "      var s = document.createElement('script');\n",
       "      s.src = url;\n",
       "      s.async = false;\n",
       "      s.onreadystatechange = s.onload = function() {\n",
       "        window._bokeh_is_loading--;\n",
       "        if (window._bokeh_is_loading === 0) {\n",
       "          console.log(\"Bokeh: all BokehJS libraries loaded\");\n",
       "          run_callbacks()\n",
       "        }\n",
       "      };\n",
       "      s.onerror = function() {\n",
       "        console.warn(\"failed to load library \" + url);\n",
       "      };\n",
       "      console.log(\"Bokeh: injecting script tag for BokehJS library: \", url);\n",
       "      document.getElementsByTagName(\"head\")[0].appendChild(s);\n",
       "    }\n",
       "  };var element = document.getElementById(\"f981d2ad-09f3-4609-9f17-414b2cbb5118\");\n",
       "  if (element == null) {\n",
       "    console.log(\"Bokeh: ERROR: autoload.js configured with elementid 'f981d2ad-09f3-4609-9f17-414b2cbb5118' but no matching script tag was found. \")\n",
       "    return false;\n",
       "  }\n",
       "\n",
       "  var js_urls = ['https://cdn.pydata.org/bokeh/release/bokeh-0.12.3.min.js', 'https://cdn.pydata.org/bokeh/release/bokeh-widgets-0.12.3.min.js'];\n",
       "\n",
       "  var inline_js = [\n",
       "    function(Bokeh) {\n",
       "      Bokeh.set_log_level(\"info\");\n",
       "    },\n",
       "    \n",
       "    function(Bokeh) {\n",
       "      \n",
       "      Bokeh.$(\"#f981d2ad-09f3-4609-9f17-414b2cbb5118\").text(\"BokehJS is loading...\");\n",
       "    },\n",
       "    function(Bokeh) {\n",
       "      console.log(\"Bokeh: injecting CSS: https://cdn.pydata.org/bokeh/release/bokeh-0.12.3.min.css\");\n",
       "      Bokeh.embed.inject_css(\"https://cdn.pydata.org/bokeh/release/bokeh-0.12.3.min.css\");\n",
       "      console.log(\"Bokeh: injecting CSS: https://cdn.pydata.org/bokeh/release/bokeh-widgets-0.12.3.min.css\");\n",
       "      Bokeh.embed.inject_css(\"https://cdn.pydata.org/bokeh/release/bokeh-widgets-0.12.3.min.css\");\n",
       "    }\n",
       "  ];\n",
       "\n",
       "  function run_inline_js() {\n",
       "    \n",
       "    if ((window.Bokeh !== undefined) || (force === \"1\")) {\n",
       "      for (var i = 0; i < inline_js.length; i++) {\n",
       "        inline_js[i](window.Bokeh);\n",
       "      }if (force === \"1\") {\n",
       "        display_loaded();\n",
       "      }} else if (Date.now() < window._bokeh_timeout) {\n",
       "      setTimeout(run_inline_js, 100);\n",
       "    } else if (!window._bokeh_failed_load) {\n",
       "      console.log(\"Bokeh: BokehJS failed to load within specified timeout.\");\n",
       "      window._bokeh_failed_load = true;\n",
       "    } else if (!force) {\n",
       "      var cell = $(\"#f981d2ad-09f3-4609-9f17-414b2cbb5118\").parents('.cell').data().cell;\n",
       "      cell.output_area.append_execute_result(NB_LOAD_WARNING)\n",
       "    }\n",
       "\n",
       "  }\n",
       "\n",
       "  if (window._bokeh_is_loading === 0) {\n",
       "    console.log(\"Bokeh: BokehJS loaded, going straight to plotting\");\n",
       "    run_inline_js();\n",
       "  } else {\n",
       "    load_libs(js_urls, function() {\n",
       "      console.log(\"Bokeh: BokehJS plotting callback run at\", now());\n",
       "      run_inline_js();\n",
       "    });\n",
       "  }\n",
       "}(this));"
      ]
     },
     "metadata": {},
     "output_type": "display_data"
    }
   ],
   "source": [
    "# We could probably apply better stopword filtering (e.g. for non english stopwords). But\n",
    "# this is a short project, so no.\n",
    "\n",
    "# Now let's generate an interactive bokeh plot! First import out bokeh and instantiate the JS\n",
    "from bokeh.plotting import figure, show, ColumnDataSource\n",
    "from bokeh.io import output_notebook\n",
    "from bokeh.models import HoverTool\n",
    "\n",
    "output_notebook()"
   ]
  },
  {
   "cell_type": "code",
   "execution_count": 115,
   "metadata": {
    "collapsed": false
   },
   "outputs": [
    {
     "data": {
      "text/html": [
       "\n",
       "\n",
       "    <div class=\"bk-root\">\n",
       "        <div class=\"plotdiv\" id=\"ffae3a2e-1b32-4cc7-befe-daf296237eb5\"></div>\n",
       "    </div>\n",
       "<script type=\"text/javascript\">\n",
       "  \n",
       "  (function(global) {\n",
       "    function now() {\n",
       "      return new Date();\n",
       "    }\n",
       "  \n",
       "    var force = \"\";\n",
       "  \n",
       "    if (typeof (window._bokeh_onload_callbacks) === \"undefined\" || force !== \"\") {\n",
       "      window._bokeh_onload_callbacks = [];\n",
       "      window._bokeh_is_loading = undefined;\n",
       "    }\n",
       "  \n",
       "  \n",
       "    \n",
       "    if (typeof (window._bokeh_timeout) === \"undefined\" || force !== \"\") {\n",
       "      window._bokeh_timeout = Date.now() + 0;\n",
       "      window._bokeh_failed_load = false;\n",
       "    }\n",
       "  \n",
       "    var NB_LOAD_WARNING = {'data': {'text/html':\n",
       "       \"<div style='background-color: #fdd'>\\n\"+\n",
       "       \"<p>\\n\"+\n",
       "       \"BokehJS does not appear to have successfully loaded. If loading BokehJS from CDN, this \\n\"+\n",
       "       \"may be due to a slow or bad network connection. Possible fixes:\\n\"+\n",
       "       \"</p>\\n\"+\n",
       "       \"<ul>\\n\"+\n",
       "       \"<li>re-rerun `output_notebook()` to attempt to load from CDN again, or</li>\\n\"+\n",
       "       \"<li>use INLINE resources instead, as so:</li>\\n\"+\n",
       "       \"</ul>\\n\"+\n",
       "       \"<code>\\n\"+\n",
       "       \"from bokeh.resources import INLINE\\n\"+\n",
       "       \"output_notebook(resources=INLINE)\\n\"+\n",
       "       \"</code>\\n\"+\n",
       "       \"</div>\"}};\n",
       "  \n",
       "    function display_loaded() {\n",
       "      if (window.Bokeh !== undefined) {\n",
       "        Bokeh.$(\"#ffae3a2e-1b32-4cc7-befe-daf296237eb5\").text(\"BokehJS successfully loaded.\");\n",
       "      } else if (Date.now() < window._bokeh_timeout) {\n",
       "        setTimeout(display_loaded, 100)\n",
       "      }\n",
       "    }\n",
       "  \n",
       "    function run_callbacks() {\n",
       "      window._bokeh_onload_callbacks.forEach(function(callback) { callback() });\n",
       "      delete window._bokeh_onload_callbacks\n",
       "      console.info(\"Bokeh: all callbacks have finished\");\n",
       "    }\n",
       "  \n",
       "    function load_libs(js_urls, callback) {\n",
       "      window._bokeh_onload_callbacks.push(callback);\n",
       "      if (window._bokeh_is_loading > 0) {\n",
       "        console.log(\"Bokeh: BokehJS is being loaded, scheduling callback at\", now());\n",
       "        return null;\n",
       "      }\n",
       "      if (js_urls == null || js_urls.length === 0) {\n",
       "        run_callbacks();\n",
       "        return null;\n",
       "      }\n",
       "      console.log(\"Bokeh: BokehJS not loaded, scheduling load and callback at\", now());\n",
       "      window._bokeh_is_loading = js_urls.length;\n",
       "      for (var i = 0; i < js_urls.length; i++) {\n",
       "        var url = js_urls[i];\n",
       "        var s = document.createElement('script');\n",
       "        s.src = url;\n",
       "        s.async = false;\n",
       "        s.onreadystatechange = s.onload = function() {\n",
       "          window._bokeh_is_loading--;\n",
       "          if (window._bokeh_is_loading === 0) {\n",
       "            console.log(\"Bokeh: all BokehJS libraries loaded\");\n",
       "            run_callbacks()\n",
       "          }\n",
       "        };\n",
       "        s.onerror = function() {\n",
       "          console.warn(\"failed to load library \" + url);\n",
       "        };\n",
       "        console.log(\"Bokeh: injecting script tag for BokehJS library: \", url);\n",
       "        document.getElementsByTagName(\"head\")[0].appendChild(s);\n",
       "      }\n",
       "    };var element = document.getElementById(\"ffae3a2e-1b32-4cc7-befe-daf296237eb5\");\n",
       "    if (element == null) {\n",
       "      console.log(\"Bokeh: ERROR: autoload.js configured with elementid 'ffae3a2e-1b32-4cc7-befe-daf296237eb5' but no matching script tag was found. \")\n",
       "      return false;\n",
       "    }\n",
       "  \n",
       "    var js_urls = [];\n",
       "  \n",
       "    var inline_js = [\n",
       "      function(Bokeh) {\n",
       "        Bokeh.$(function() {\n",
       "            var docs_json = {\"f46e0ac4-d330-4e3a-b935-2d21c0a980a6\":{\"roots\":{\"references\":[{\"attributes\":{\"months\":[0,1,2,3,4,5,6,7,8,9,10,11]},\"id\":\"be3227ef-963a-49cf-9b0b-70fc1ee1d6b7\",\"type\":\"MonthsTicker\"},{\"attributes\":{\"base\":24,\"mantissas\":[1,2,4,6,8,12],\"max_interval\":43200000.0,\"min_interval\":3600000.0,\"num_minor_ticks\":0},\"id\":\"03a5ab55-8eb0-4feb-846e-7eaeee32996c\",\"type\":\"AdaptiveTicker\"},{\"attributes\":{\"max_interval\":500.0,\"num_minor_ticks\":0},\"id\":\"e0e79228-9784-4cde-86fb-a9e9a97235cc\",\"type\":\"AdaptiveTicker\"},{\"attributes\":{\"plot\":{\"id\":\"36191bbb-66c8-4837-a4e1-0d3e934145f2\",\"subtype\":\"Figure\",\"type\":\"Plot\"},\"ticker\":{\"id\":\"f1d6d452-194f-4b33-9ed1-74af16062290\",\"type\":\"DatetimeTicker\"}},\"id\":\"5770715b-5df0-4c6f-be0e-65feba691d7c\",\"type\":\"Grid\"},{\"attributes\":{},\"id\":\"42fb0879-0fcf-4e13-a6a2-348c1dc53db8\",\"type\":\"BasicTicker\"},{\"attributes\":{\"base\":60,\"mantissas\":[1,2,5,10,15,20,30],\"max_interval\":1800000.0,\"min_interval\":1000.0,\"num_minor_ticks\":0},\"id\":\"38acbe45-7ebc-40bb-848b-da7f2313d200\",\"type\":\"AdaptiveTicker\"},{\"attributes\":{},\"id\":\"0e685d7e-6373-40bc-bba0-2cb136271685\",\"type\":\"DatetimeTickFormatter\"},{\"attributes\":{\"plot\":null,\"text\":\"Tweets about AppNexus over time!\"},\"id\":\"ca8f0447-c69b-4f03-9ffe-9d9b7e6a87b0\",\"type\":\"Title\"},{\"attributes\":{},\"id\":\"e2774ef2-e566-42cb-9c62-c27050d6049e\",\"type\":\"BasicTickFormatter\"},{\"attributes\":{\"formatter\":{\"id\":\"0e685d7e-6373-40bc-bba0-2cb136271685\",\"type\":\"DatetimeTickFormatter\"},\"plot\":{\"id\":\"36191bbb-66c8-4837-a4e1-0d3e934145f2\",\"subtype\":\"Figure\",\"type\":\"Plot\"},\"ticker\":{\"id\":\"f1d6d452-194f-4b33-9ed1-74af16062290\",\"type\":\"DatetimeTicker\"}},\"id\":\"fba29435-6062-428a-a40e-6fda05446768\",\"type\":\"DatetimeAxis\"},{\"attributes\":{\"data_source\":{\"id\":\"0d94a976-a517-47b1-9c39-39234e60434f\",\"type\":\"ColumnDataSource\"},\"glyph\":{\"id\":\"ef7fa9bb-0e32-45dd-a3d6-0e276d0a3764\",\"type\":\"Line\"},\"hover_glyph\":null,\"nonselection_glyph\":{\"id\":\"687bc0d0-b40b-4684-98fd-15c48ec635fb\",\"type\":\"Line\"},\"selection_glyph\":null},\"id\":\"8d78b943-be6b-42c6-bd5c-28ab533ea734\",\"type\":\"GlyphRenderer\"},{\"attributes\":{\"dimension\":1,\"plot\":{\"id\":\"36191bbb-66c8-4837-a4e1-0d3e934145f2\",\"subtype\":\"Figure\",\"type\":\"Plot\"},\"ticker\":{\"id\":\"42fb0879-0fcf-4e13-a6a2-348c1dc53db8\",\"type\":\"BasicTicker\"}},\"id\":\"4b02dde0-0b44-4d54-b898-88556628ee00\",\"type\":\"Grid\"},{\"attributes\":{\"plot\":{\"id\":\"36191bbb-66c8-4837-a4e1-0d3e934145f2\",\"subtype\":\"Figure\",\"type\":\"Plot\"}},\"id\":\"761f67c5-fa49-4588-ad5a-4cef17921b0d\",\"type\":\"PanTool\"},{\"attributes\":{\"plot\":{\"id\":\"36191bbb-66c8-4837-a4e1-0d3e934145f2\",\"subtype\":\"Figure\",\"type\":\"Plot\"}},\"id\":\"e990e813-8873-42f5-92e4-840e72d87cb9\",\"type\":\"ResetTool\"},{\"attributes\":{\"line_color\":{\"value\":\"#1f77b4\"},\"line_width\":{\"value\":2},\"x\":{\"field\":\"dh\"},\"y\":{\"field\":\"count_id\"}},\"id\":\"ef7fa9bb-0e32-45dd-a3d6-0e276d0a3764\",\"type\":\"Line\"},{\"attributes\":{\"months\":[0,6]},\"id\":\"d22aa9b9-18a8-4e21-a664-6676992e25c8\",\"type\":\"MonthsTicker\"},{\"attributes\":{\"formatter\":{\"id\":\"e2774ef2-e566-42cb-9c62-c27050d6049e\",\"type\":\"BasicTickFormatter\"},\"plot\":{\"id\":\"36191bbb-66c8-4837-a4e1-0d3e934145f2\",\"subtype\":\"Figure\",\"type\":\"Plot\"},\"ticker\":{\"id\":\"42fb0879-0fcf-4e13-a6a2-348c1dc53db8\",\"type\":\"BasicTicker\"}},\"id\":\"f135ebf6-7138-4753-b214-aba4d18ae7e8\",\"type\":\"LinearAxis\"},{\"attributes\":{\"below\":[{\"id\":\"fba29435-6062-428a-a40e-6fda05446768\",\"type\":\"DatetimeAxis\"}],\"left\":[{\"id\":\"f135ebf6-7138-4753-b214-aba4d18ae7e8\",\"type\":\"LinearAxis\"}],\"plot_height\":500,\"plot_width\":1280,\"renderers\":[{\"id\":\"fba29435-6062-428a-a40e-6fda05446768\",\"type\":\"DatetimeAxis\"},{\"id\":\"5770715b-5df0-4c6f-be0e-65feba691d7c\",\"type\":\"Grid\"},{\"id\":\"f135ebf6-7138-4753-b214-aba4d18ae7e8\",\"type\":\"LinearAxis\"},{\"id\":\"4b02dde0-0b44-4d54-b898-88556628ee00\",\"type\":\"Grid\"},{\"id\":\"8d78b943-be6b-42c6-bd5c-28ab533ea734\",\"type\":\"GlyphRenderer\"}],\"sizing_mode\":\"scale_width\",\"title\":{\"id\":\"ca8f0447-c69b-4f03-9ffe-9d9b7e6a87b0\",\"type\":\"Title\"},\"tool_events\":{\"id\":\"92940cc0-db9a-4afe-8a77-361d4310db50\",\"type\":\"ToolEvents\"},\"toolbar\":{\"id\":\"c0591d18-6022-43d6-a28c-c10e055c8533\",\"type\":\"Toolbar\"},\"x_range\":{\"id\":\"86765727-ccee-4d07-9d65-fe5d6e12053c\",\"type\":\"DataRange1d\"},\"y_range\":{\"id\":\"27f29bd2-c7dd-4c18-b552-69788c777440\",\"type\":\"DataRange1d\"}},\"id\":\"36191bbb-66c8-4837-a4e1-0d3e934145f2\",\"subtype\":\"Figure\",\"type\":\"Plot\"},{\"attributes\":{\"months\":[0,2,4,6,8,10]},\"id\":\"8cee33ba-a254-459e-8373-ce57cc5ad7a3\",\"type\":\"MonthsTicker\"},{\"attributes\":{\"active_drag\":\"auto\",\"active_scroll\":\"auto\",\"active_tap\":\"auto\",\"tools\":[{\"id\":\"761f67c5-fa49-4588-ad5a-4cef17921b0d\",\"type\":\"PanTool\"},{\"id\":\"e990e813-8873-42f5-92e4-840e72d87cb9\",\"type\":\"ResetTool\"},{\"id\":\"f70ad240-9b4a-42c2-a956-e69845b3e6b7\",\"type\":\"HoverTool\"}]},\"id\":\"c0591d18-6022-43d6-a28c-c10e055c8533\",\"type\":\"Toolbar\"},{\"attributes\":{},\"id\":\"20588298-4a93-4fae-b69f-725612439ee7\",\"type\":\"YearsTicker\"},{\"attributes\":{\"days\":[1,4,7,10,13,16,19,22,25,28]},\"id\":\"ae1ea73c-c385-4d7b-9fe3-205be98bb027\",\"type\":\"DaysTicker\"},{\"attributes\":{\"callback\":null},\"id\":\"27f29bd2-c7dd-4c18-b552-69788c777440\",\"type\":\"DataRange1d\"},{\"attributes\":{\"days\":[1,8,15,22]},\"id\":\"ad39267b-cd72-4fe1-9ae7-0d15435e0d5a\",\"type\":\"DaysTicker\"},{\"attributes\":{\"line_alpha\":{\"value\":0.1},\"line_color\":{\"value\":\"#1f77b4\"},\"line_width\":{\"value\":2},\"x\":{\"field\":\"dh\"},\"y\":{\"field\":\"count_id\"}},\"id\":\"687bc0d0-b40b-4684-98fd-15c48ec635fb\",\"type\":\"Line\"},{\"attributes\":{\"num_minor_ticks\":5},\"id\":\"f1d6d452-194f-4b33-9ed1-74af16062290\",\"type\":\"DatetimeTicker\"},{\"attributes\":{\"callback\":null},\"id\":\"86765727-ccee-4d07-9d65-fe5d6e12053c\",\"type\":\"DataRange1d\"},{\"attributes\":{\"callback\":null,\"line_policy\":\"nearest\",\"mode\":\"vline\",\"plot\":{\"id\":\"36191bbb-66c8-4837-a4e1-0d3e934145f2\",\"subtype\":\"Figure\",\"type\":\"Plot\"},\"tooltips\":[[\"Hour\",\"@str_dh\"],[\"Number of Tweets\",\"@count_id\"],[\"Top 3 Words\",\"@top\"]]},\"id\":\"f70ad240-9b4a-42c2-a956-e69845b3e6b7\",\"type\":\"HoverTool\"},{\"attributes\":{},\"id\":\"92940cc0-db9a-4afe-8a77-361d4310db50\",\"type\":\"ToolEvents\"},{\"attributes\":{\"months\":[0,4,8]},\"id\":\"ceeb2bd5-61e1-470e-b4d8-a8d43165a2bb\",\"type\":\"MonthsTicker\"},{\"attributes\":{\"callback\":null,\"column_names\":[\"loc\",\"str_dh\",\"user_id\",\"dh\",\"count_id\",\"text\",\"top\",\"tweet_id\",\"created_on\",\"coords\",\"index\"],\"data\":{\"coords\":[0,0,0,0,0,0,0,0,0,0,0,0,0,0,0,0,0,0,0,0,0,0,0,0,0,0,0,0,0,0,0,0,0,0,0,0,0,0,0,0,1,1,1,0,0,0,0,0,1,1,1,0,1,0,0,0,0,0,0,0,0,0,0,0,0,0,0,0,0,0,0,0,0,0,0,0,0,0,0,0,0,0,0,0,0,0,0,0,0,0,0,0,0,0,0,0,0,0,0,0,0,0,0,0,0,0,0,0,0,0,0,0,0,0,1,0],\"count_id\":[1,2,1,2,2,1,1,1,1,1,4,6,1,2,4,4,1,4,1,12,26,13,26,31,25,30,17,12,8,18,11,11,3,2,2,1,1,1,6,3,19,52,116,136,156,131,46,58,59,41,34,16,25,18,13,14,13,4,11,7,12,4,2,7,1,7,12,19,12,9,10,8,15,18,15,10,7,3,7,2,3,2,4,5,1,2,1,2,1,2,3,2,3,2,1,6,2,10,1,4,1,1,2,1,1,1,2,3,3,3,2,2,2,2,3,1],\"created_on\":[1,2,1,2,2,1,1,1,1,1,4,6,1,2,4,4,1,4,1,12,26,13,26,31,25,30,17,12,8,18,11,11,3,2,2,1,1,1,6,3,19,52,116,136,156,131,46,58,59,41,34,16,25,18,13,14,13,4,11,7,12,4,2,7,1,7,12,19,12,9,10,8,15,18,15,10,7,3,7,2,3,2,4,5,1,2,1,2,1,2,3,2,3,2,1,6,2,10,1,4,1,1,2,1,1,1,2,3,3,3,2,2,2,2,3,1],\"dh\":[1493650800000.0,1493654400000.0,1493665200000.0,1493668800000.0,1493676000000.0,1493694000000.0,1493697600000.0,1493704800000.0,1493708400000.0,1493712000000.0,1493730000000.0,1493733600000.0,1493737200000.0,1493740800000.0,1493744400000.0,1493748000000.0,1493751600000.0,1493755200000.0,1493758800000.0,1493802000000.0,1493805600000.0,1493809200000.0,1493812800000.0,1493816400000.0,1493820000000.0,1493823600000.0,1493827200000.0,1493830800000.0,1493834400000.0,1493838000000.0,1493841600000.0,1493845200000.0,1493848800000.0,1493852400000.0,1493856000000.0,1493859600000.0,1493863200000.0,1493866800000.0,1493870400000.0,1493874000000.0,1493877600000.0,1493881200000.0,1493884800000.0,1493888400000.0,1493892000000.0,1493895600000.0,1493899200000.0,1493902800000.0,1493906400000.0,1493910000000.0,1493913600000.0,1493917200000.0,1493920800000.0,1493924400000.0,1493928000000.0,1493931600000.0,1493935200000.0,1493938800000.0,1493942400000.0,1493946000000.0,1493949600000.0,1493953200000.0,1493956800000.0,1493960400000.0,1493964000000.0,1493967600000.0,1493971200000.0,1493974800000.0,1493978400000.0,1493982000000.0,1493985600000.0,1493989200000.0,1493992800000.0,1493996400000.0,1494000000000.0,1494003600000.0,1494007200000.0,1494010800000.0,1494014400000.0,1494018000000.0,1494021600000.0,1494025200000.0,1494028800000.0,1494032400000.0,1494036000000.0,1494039600000.0,1494043200000.0,1494050400000.0,1494057600000.0,1494061200000.0,1494064800000.0,1494068400000.0,1494072000000.0,1494082800000.0,1494090000000.0,1494093600000.0,1494097200000.0,1494100800000.0,1494104400000.0,1494108000000.0,1494115200000.0,1494118800000.0,1494126000000.0,1494133200000.0,1494136800000.0,1494140400000.0,1494147600000.0,1494151200000.0,1494162000000.0,1494165600000.0,1494169200000.0,1494172800000.0,1494176400000.0,1494180000000.0,1494183600000.0,1494187200000.0],\"index\":[0,1,2,3,4,5,6,7,8,9,10,11,12,13,14,15,16,17,18,19,20,21,22,23,24,25,26,27,28,29,30,31,32,33,34,35,36,37,38,39,40,41,42,43,44,45,46,47,48,49,50,51,52,53,54,55,56,57,58,59,60,61,62,63,64,65,66,67,68,69,70,71,72,73,74,75,76,77,78,79,80,81,82,83,84,85,86,87,88,89,90,91,92,93,94,95,96,97,98,99,100,101,102,103,104,105,106,107,108,109,110,111,112,113,114,115],\"loc\":[1,1,1,2,2,1,1,1,1,0,3,5,1,2,2,3,0,4,1,9,22,10,24,27,21,29,15,6,8,17,8,11,3,2,2,1,1,1,3,1,17,40,96,118,126,109,40,53,52,36,23,12,23,16,9,14,13,4,10,4,6,3,0,5,0,7,11,16,10,6,10,8,13,17,14,8,7,3,6,2,3,2,3,4,1,2,1,2,1,2,3,2,3,2,1,4,2,0,1,4,1,1,2,0,1,1,2,3,3,2,2,2,2,1,2,1],\"str_dh\":[\"2017-05-01 15\",\"2017-05-01 16\",\"2017-05-01 19\",\"2017-05-01 20\",\"2017-05-01 22\",\"2017-05-02 03\",\"2017-05-02 04\",\"2017-05-02 06\",\"2017-05-02 07\",\"2017-05-02 08\",\"2017-05-02 13\",\"2017-05-02 14\",\"2017-05-02 15\",\"2017-05-02 16\",\"2017-05-02 17\",\"2017-05-02 18\",\"2017-05-02 19\",\"2017-05-02 20\",\"2017-05-02 21\",\"2017-05-03 09\",\"2017-05-03 10\",\"2017-05-03 11\",\"2017-05-03 12\",\"2017-05-03 13\",\"2017-05-03 14\",\"2017-05-03 15\",\"2017-05-03 16\",\"2017-05-03 17\",\"2017-05-03 18\",\"2017-05-03 19\",\"2017-05-03 20\",\"2017-05-03 21\",\"2017-05-03 22\",\"2017-05-03 23\",\"2017-05-04 00\",\"2017-05-04 01\",\"2017-05-04 02\",\"2017-05-04 03\",\"2017-05-04 04\",\"2017-05-04 05\",\"2017-05-04 06\",\"2017-05-04 07\",\"2017-05-04 08\",\"2017-05-04 09\",\"2017-05-04 10\",\"2017-05-04 11\",\"2017-05-04 12\",\"2017-05-04 13\",\"2017-05-04 14\",\"2017-05-04 15\",\"2017-05-04 16\",\"2017-05-04 17\",\"2017-05-04 18\",\"2017-05-04 19\",\"2017-05-04 20\",\"2017-05-04 21\",\"2017-05-04 22\",\"2017-05-04 23\",\"2017-05-05 00\",\"2017-05-05 01\",\"2017-05-05 02\",\"2017-05-05 03\",\"2017-05-05 04\",\"2017-05-05 05\",\"2017-05-05 06\",\"2017-05-05 07\",\"2017-05-05 08\",\"2017-05-05 09\",\"2017-05-05 10\",\"2017-05-05 11\",\"2017-05-05 12\",\"2017-05-05 13\",\"2017-05-05 14\",\"2017-05-05 15\",\"2017-05-05 16\",\"2017-05-05 17\",\"2017-05-05 18\",\"2017-05-05 19\",\"2017-05-05 20\",\"2017-05-05 21\",\"2017-05-05 22\",\"2017-05-05 23\",\"2017-05-06 00\",\"2017-05-06 01\",\"2017-05-06 02\",\"2017-05-06 03\",\"2017-05-06 04\",\"2017-05-06 06\",\"2017-05-06 08\",\"2017-05-06 09\",\"2017-05-06 10\",\"2017-05-06 11\",\"2017-05-06 12\",\"2017-05-06 15\",\"2017-05-06 17\",\"2017-05-06 18\",\"2017-05-06 19\",\"2017-05-06 20\",\"2017-05-06 21\",\"2017-05-06 22\",\"2017-05-07 00\",\"2017-05-07 01\",\"2017-05-07 03\",\"2017-05-07 05\",\"2017-05-07 06\",\"2017-05-07 07\",\"2017-05-07 09\",\"2017-05-07 10\",\"2017-05-07 13\",\"2017-05-07 14\",\"2017-05-07 15\",\"2017-05-07 16\",\"2017-05-07 17\",\"2017-05-07 18\",\"2017-05-07 19\",\"2017-05-07 20\"],\"text\":[1,2,1,2,2,1,1,1,1,1,4,6,1,2,4,4,1,4,1,12,26,13,26,31,25,30,17,12,8,18,11,11,3,2,2,1,1,1,6,3,19,52,116,136,156,131,46,58,59,41,34,16,25,18,13,14,13,4,11,7,12,4,2,7,1,7,12,19,12,9,10,8,15,18,15,10,7,3,7,2,3,2,4,5,1,2,1,2,1,2,3,2,3,2,1,6,2,10,1,4,1,1,2,1,1,1,2,3,3,3,2,2,2,2,3,1],\"top\":[\"lance,via,ench\\u00e8res\",\"timothynichols,multimedia,ad\",\"pity,named,weve\",\"pity,named,since\",\"la,\\u00absuperench\\u00e8res\\u00bb,de\",\"demo,civicpdx,thx\",\"demo,civicpdx,thx\",\"d\\u0092appnexus,la,\\u00absuperench\\u00e8res\\u00bb\",\"la,programmatique,\\u00absuperench\\u00e8res\\u00bb\",\"publishers,ux,web\",\"nithyadas,inclusive,companies\",\"right,ad,how\",\"industry,needs,like\",\"and,via,inclusive\",\"right,panel,and\",\"via,mediapost,heres\",\"150,nithyadas,october\",\"bridge,ad,need\",\"bridge,ad,amazon\",\"axel,springer,deal\",\"axel,springer,announce\",\"axel,deal,springer\",\"drive,header,prebid\",\"prebid,facebook,axel\",\"axel,facebook,springer\",\"prebid,indexexchange,amp\",\"axel,via,header\",\"header,bidding,adtech\",\"via,sales,thedrum\",\"will,list,privacy\",\"privacy,google,as\",\"axel,springer,adopte\",\"programmatic,deal,back\",\"adventori,lead,monopoly\",\"monopoly\\u0085,lead,privacy\",\"springers,google\\u0092s,deal\",\"announce,springer,partnership\",\"prebidjs,s2s,leveraged\",\"ad,at,tomorrows\",\"publishers,exploring,duopoly\",\"axel,springer,header\",\"enable,consortium,facebook\",\"better,bokelley,internet\",\"gdpr,adserver,publishers\",\"jeffjarvis,identity,tech\",\"ai,ad,video\",\"liveramp,facebook,mediamath\",\"liveramp,facebook,mediamath\",\"tv,connected,consortium\",\"consortium,mediamath,liveramp\",\"consortium,facebook,tv\",\"mediamath,liveintent,liveramp\",\"mediamath,liveramp,programmatic\",\"tv,connected,tech\",\"liveramp,mediamath,deal\",\"via,ronanshields,leads\",\"liveramp,mediamath,consortium\",\"liveramp,mediamath,consortium\",\"facebook,leads,marketing\\u0092\",\"duopoly,consortium,leads\",\"ad,google,de\",\"tv,via,leads\",\"fun,major,arming\",\"liveramp,consortium,adtech\",\"liveramp,launch,technology\",\"liveramp,mediamath,peoplebased\",\"adtech,consortium,enable\",\"axel,springer,skins\",\"axel,springer,el\",\"consortium,adtech,enable\",\"consortium,liveramp,mediamath\",\"skinz,partnership,skins\",\"liveramp,consortium,launch\",\"facebook,consortium,leads\",\"consortium,programmatic,adtech\",\"en,ad,el\",\"deal,see,axel\",\"digitalmarketing,set,leads\",\"google,buying,releases\",\"springer,partnership,business\",\"tv,connected,el\",\"liveramp,rocketfuelinc,tv\",\"programmatic,google,rocketfuelinc\",\"google\\u0092s,back,see\",\"europe,programmatic,partnership\",\"peoplebased,programmatic,google\",\"iprospectuk,enable,based\",\"liverampuk,peoplebased,programmatic\",\"enormous,benefits,industry\",\"programmatic,via,deal\",\"peoplebased,consortium,liveintent\",\"adtech,springer,enable\",\"insight,see,follow\",\"targeting,links,privacy\",\"incredible,lucky,minds\",\"amp,thanks,event\",\"begins,building,great\",\"story,gt,watch\",\"el,springer,google\",\"tv,apps,connected\",\"liveramp,announce,week\",\"announce,springer,partnership\",\"signs,favorite,delightful\",\"pubmatic,publishers,via\",\"announce,springer,partnership\",\"enable,based,marketing\",\"el,springer,google\",\"scibids,el,springer\",\"google,el,ad\",\"launches,compliance,ad\",\"a,available,springer\",\"springer,axel,tv\",\"nouveau,liveramp,est\",\"josegarde,liveramp,gains\",\"bangbangcon,adafruit,keynote\",\"adafruit,bangbangcon,ladyada\"],\"tweet_id\":[1,2,1,2,2,1,1,1,1,1,4,6,1,2,4,4,1,4,1,12,26,13,26,31,25,30,17,12,8,18,11,11,3,2,2,1,1,1,6,3,19,52,116,136,156,131,46,58,59,41,34,16,25,18,13,14,13,4,11,7,12,4,2,7,1,7,12,19,12,9,10,8,15,18,15,10,7,3,7,2,3,2,4,5,1,2,1,2,1,2,3,2,3,2,1,6,2,10,1,4,1,1,2,1,1,1,2,3,3,3,2,2,2,2,3,1],\"user_id\":[1,2,1,2,2,1,1,1,1,1,4,6,1,2,4,4,1,4,1,12,26,13,26,31,25,30,17,12,8,18,11,11,3,2,2,1,1,1,6,3,19,52,116,136,156,131,46,58,59,41,34,16,25,18,13,14,13,4,11,7,12,4,2,7,1,7,12,19,12,9,10,8,15,18,15,10,7,3,7,2,3,2,4,5,1,2,1,2,1,2,3,2,3,2,1,6,2,10,1,4,1,1,2,1,1,1,2,3,3,3,2,2,2,2,3,1]}},\"id\":\"0d94a976-a517-47b1-9c39-39234e60434f\",\"type\":\"ColumnDataSource\"},{\"attributes\":{\"days\":[1,15]},\"id\":\"43d7319a-3b75-4fea-9051-e79699c45912\",\"type\":\"DaysTicker\"},{\"attributes\":{\"days\":[1,2,3,4,5,6,7,8,9,10,11,12,13,14,15,16,17,18,19,20,21,22,23,24,25,26,27,28,29,30,31]},\"id\":\"22f689a6-7936-4dd4-a00f-bcc990ce5a7e\",\"type\":\"DaysTicker\"}],\"root_ids\":[\"36191bbb-66c8-4837-a4e1-0d3e934145f2\"]},\"title\":\"Bokeh Application\",\"version\":\"0.12.3\"}};\n",
       "            var render_items = [{\"docid\":\"f46e0ac4-d330-4e3a-b935-2d21c0a980a6\",\"elementid\":\"ffae3a2e-1b32-4cc7-befe-daf296237eb5\",\"modelid\":\"36191bbb-66c8-4837-a4e1-0d3e934145f2\"}];\n",
       "            \n",
       "            Bokeh.embed.embed_items(docs_json, render_items);\n",
       "        });\n",
       "      },\n",
       "      function(Bokeh) {\n",
       "      }\n",
       "    ];\n",
       "  \n",
       "    function run_inline_js() {\n",
       "      \n",
       "      if ((window.Bokeh !== undefined) || (force === \"1\")) {\n",
       "        for (var i = 0; i < inline_js.length; i++) {\n",
       "          inline_js[i](window.Bokeh);\n",
       "        }if (force === \"1\") {\n",
       "          display_loaded();\n",
       "        }} else if (Date.now() < window._bokeh_timeout) {\n",
       "        setTimeout(run_inline_js, 100);\n",
       "      } else if (!window._bokeh_failed_load) {\n",
       "        console.log(\"Bokeh: BokehJS failed to load within specified timeout.\");\n",
       "        window._bokeh_failed_load = true;\n",
       "      } else if (!force) {\n",
       "        var cell = $(\"#ffae3a2e-1b32-4cc7-befe-daf296237eb5\").parents('.cell').data().cell;\n",
       "        cell.output_area.append_execute_result(NB_LOAD_WARNING)\n",
       "      }\n",
       "  \n",
       "    }\n",
       "  \n",
       "    if (window._bokeh_is_loading === 0) {\n",
       "      console.log(\"Bokeh: BokehJS loaded, going straight to plotting\");\n",
       "      run_inline_js();\n",
       "    } else {\n",
       "      load_libs(js_urls, function() {\n",
       "        console.log(\"Bokeh: BokehJS plotting callback run at\", now());\n",
       "        run_inline_js();\n",
       "      });\n",
       "    }\n",
       "  }(this));\n",
       "</script>"
      ]
     },
     "metadata": {},
     "output_type": "display_data"
    }
   ],
   "source": [
    "# Merge our word data back into our counts\n",
    "plt_df = pd.merge(by_hour.reset_index(), words_by_hour[['dh','top']], how='inner', on='dh')\n",
    "plt_df['str_dh'] = plt_df['dh'].apply(lambda x: x.strftime('%Y-%m-%d %H'))\n",
    "\n",
    "# Create the datasource\n",
    "plt_ds = ColumnDataSource(plt_df)\n",
    "\n",
    "p = figure(plot_width=1280, plot_height=500, tools='pan,reset', \n",
    "           title=\"Tweets about AppNexus over time!\", x_axis_type='datetime', responsive=True)\n",
    "\n",
    "p.line(x='dh', y='count_id', line_width=2, source=plt_ds)\n",
    "\n",
    "# Set up our hovertool\n",
    "hover = HoverTool(\n",
    "    line_policy='nearest',\n",
    "    mode='vline',\n",
    "    tooltips=[\n",
    "        (\"Hour\",\"@str_dh\"),\n",
    "        (\"Number of Tweets\",\"@count_id\"),\n",
    "        (\"Top 3 Words\",\"@top\")\n",
    "    ]\n",
    ")\n",
    "\n",
    "p.add_tools(hover)\n",
    "\n",
    "show(p)"
   ]
  },
  {
   "cell_type": "code",
   "execution_count": 117,
   "metadata": {
    "collapsed": true
   },
   "outputs": [],
   "source": [
    "plt_df.to_csv('processed_tweets.csv', index=False)"
   ]
  }
 ],
 "metadata": {
  "kernelspec": {
   "display_name": "Python 2",
   "language": "python",
   "name": "python2"
  },
  "language_info": {
   "codemirror_mode": {
    "name": "ipython",
    "version": 2
   },
   "file_extension": ".py",
   "mimetype": "text/x-python",
   "name": "python",
   "nbconvert_exporter": "python",
   "pygments_lexer": "ipython2",
   "version": "2.7.12"
  }
 },
 "nbformat": 4,
 "nbformat_minor": 1
}
